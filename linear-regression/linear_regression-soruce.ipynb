{
 "cells": [
  {
   "cell_type": "markdown",
   "metadata": {},
   "source": [
    "## Dataset loading and visualization"
   ]
  },
  {
   "cell_type": "code",
   "execution_count": 2,
   "metadata": {},
   "outputs": [
    {
     "name": "stdout",
     "output_type": "stream",
     "text": [
      "(100,) (100,)\n"
     ]
    },
    {
     "data": {
      "image/png": "[encoded data removed]",
      "text/plain": [
       "<Figure size 1000x600 with 1 Axes>"
      ]
     },
     "metadata": {},
     "output_type": "display_data"
    }
   ],
   "source": [
    "import numpy as np\n",
    "%matplotlib inline\n",
    "import matplotlib.pyplot as plt\n",
    "max_x = 10\n",
    "\n",
    "plt.figure(figsize=(10, 6))\n",
    "dataset = np.load('linear_regression_dataset.npz')\n",
    "x, y = dataset['x'], dataset['y']\n",
    "dataset_size = x.shape[0]\n",
    "print(x.shape, y.shape)\n",
    "\n",
    "def plot(x, y, slope=None, offset_y=None):\n",
    "    plt.plot(x, y, 'o') # scatter plot of dataset\n",
    "    if slope is not None:\n",
    "        plt.plot([0, max_x], [offset_y, offset_y + max_x * slope]) # straight line defined by slope and offset_y\n",
    "    plt.show()\n",
    "\n",
    "plot(x, y)"
   ]
  },
  {
   "cell_type": "markdown",
   "metadata": {},
   "source": [
    "## Linear regression based on hand derived derivative\n",
    "Implement the `compute_derivatives` function."
   ]
  },
  {
   "cell_type": "code",
   "execution_count": null,
   "metadata": {
    "scrolled": false
   },
   "outputs": [],
   "source": [
    "def compute_derivatives(x, y, slope, offset_y):\n",
    "    slope_derivative = 0\n",
    "    offset_y_derivative = 0\n",
    "    \n",
    "    # Compute slope derivative and offset derivative\n",
    "    # ** for each point in the dataset! **\n",
    "    \n",
    "    return slope_derivative, offset_y_derivative\n",
    "\n",
    "def compute_error(x, y, slope, offset_y):\n",
    "    error = 0\n",
    "    for i in range(dataset_size):\n",
    "        error += (offset_y + slope * x[i] - y[i]) ** 2\n",
    "    error /= dataset_size\n",
    "    return error\n",
    "\n",
    "slope = 4 # our inital guess for the slope parameter\n",
    "offset_y = 1 # our inital guess for the offset parameter\n",
    "print('plot before training')\n",
    "plot(x, y, slope, offset_y)\n",
    "num_steps = 100000\n",
    "learning_rate = 0.0001\n",
    "for iteration in range(1, num_steps + 1):\n",
    "    slope_derivative, offset_y_derivative = compute_derivatives(x, y, slope, offset_y)\n",
    "    slope = slope - learning_rate * slope_derivative\n",
    "    offset_y = offset_y - learning_rate * offset_y_derivative\n",
    "    if iteration in [100, 200, 500, 1000, 5000] or iteration % 10000 == 0:\n",
    "        print('iter: {}, slope: {}, offset_y: {}, error: {}'.format(iteration, slope, offset_y,\n",
    "              compute_error(x, y, slope, offset_y)))\n",
    "    if iteration in [500, 20000, 50000]:\n",
    "        plot(x, y, slope, offset_y)\n",
    "print('plot after training')\n",
    "plot(x, y, slope, offset_y)"
   ]
  },
  {
   "cell_type": "markdown",
   "metadata": {},
   "source": [
    "## Linear regression based on EDF\n",
    "\n",
    "Implement the `forward` and `backward` method of the class `L2Loss`."
   ]
  },
  {
   "cell_type": "code",
   "execution_count": null,
   "metadata": {},
   "outputs": [],
   "source": [
    "import edf\n",
    "\n",
    "# y shape: (batch size, 1)\n",
    "# y_hat shape: (batch size, 1)\n",
    "# output shape: (batch size, 1)\n",
    "class L2Loss(edf.CompNode):\n",
    "    def __init__(self, y, y_hat):\n",
    "        edf.CompNodes.append(self)\n",
    "        self.y = y\n",
    "        self.y_hat = y_hat\n",
    "\n",
    "    def forward(self):\n",
    "        self.y_hat = ...\n",
    "\n",
    "    def backward(self):\n",
    "        # Add gradients to all nodes\n",
    "        # self.node_name.addgrad()\n",
    "        self.y.addgrad(......)\n",
    "        pass"
   ]
  },
  {
   "cell_type": "markdown",
   "metadata": {},
   "source": [
    "### Definition of EDF's computation graph\n",
    "Use EDF to assemble a computational graph for linear regression with the \"mean\" images as input. You will need the `L2Loss` node that you implemented above. The function `train` below expects variables `affine_params`, `x_node`, `y_node` and `loss_node` to be defined."
   ]
  },
  {
   "cell_type": "code",
   "execution_count": null,
   "metadata": {},
   "outputs": [],
   "source": [
    "f.y_hat = edf.clear_compgraph()\n",
    "x_node = edf.Input()\n",
    "y_node = edf.Input()\n",
    "affine_params = edf.AffineParams(1, 1) # Affine layer with one input and one output\n",
    "y_hat_node = edf.Affine(affine_params, x_node)\n",
    "loss_node = L2Loss(y_node, y_hat_node)"
   ]
  },
  {
   "cell_type": "code",
   "execution_count": null,
   "metadata": {
    "scrolled": true
   },
   "outputs": [],
   "source": [
    "def train(num_steps, x, y, affine_params, x_node, y_node, loss_node):\n",
    "    affine_params.A.value[0, 0] = 4 # manually overwrite EDF's random initalization to get consistent results\n",
    "    affine_params.b.value[0] = 1\n",
    "    x_node.value = x.reshape(-1, 1)\n",
    "    y_node.value = y.reshape(-1, 1)\n",
    "    for iteration in range(1, num_steps + 1):\n",
    "        edf.Forward()\n",
    "        edf.Backward(loss_node)\n",
    "        edf.UpdateParameters()\n",
    "        error = np.sum(loss_node.value) / dataset_size\n",
    "        slope = affine_params.A.value[0, 0]\n",
    "        offset_y = affine_params.b.value[0]\n",
    "        if iteration in [100, 200, 500, 1000, 5000] or iteration % 10000 == 0:\n",
    "            print('iter: {}, slope: {}, offset_y: {}, error: {}'.format(iteration, slope, offset_y, error))\n",
    "\n",
    "edf.learning_rate = learning_rate\n",
    "train(num_steps, x, y, affine_params, x_node, y_node, loss_node)"
   ]
  },
  {
   "cell_type": "code",
   "execution_count": null,
   "metadata": {},
   "outputs": [],
   "source": [
    "plt.figure(figsize=(10, 6))\n",
    "slope = y_hat_node.w.A.value\n",
    "offset_y = y_hat_node.w.b.value\n",
    "plot(x, y, slope.item(), offset_y.item())"
   ]
  }
 ],
 "metadata": {
  "kernelspec": {
   "display_name": "Python 3 (ipykernel)",
   "language": "python",
   "name": "python3"
  },
  "language_info": {
   "codemirror_mode": {
    "name": "ipython",
    "version": 3
   },
   "file_extension": ".py",
   "mimetype": "text/x-python",
   "name": "python",
   "nbconvert_exporter": "python",
   "pygments_lexer": "ipython3",
   "version": "3.9.13"
  }
 },
 "nbformat": 4,
 "nbformat_minor": 4
}
